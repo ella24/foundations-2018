{
 "cells": [
  {
   "cell_type": "code",
   "execution_count": 1,
   "metadata": {},
   "outputs": [],
   "source": [
    "import requests\n",
    "import datetime\n",
    "right_now = datetime.datetime.now()\n",
    "date_string = right_now.strftime(\"%Y-%M\")"
   ]
  },
  {
   "cell_type": "code",
   "execution_count": 2,
   "metadata": {},
   "outputs": [
    {
     "name": "stdout",
     "output_type": "stream",
     "text": [
      "<Response [200]>\n"
     ]
    }
   ],
   "source": [
    "response = requests.get('https://api.darksky.net/forecast//18.15,-66.30?units=us')\n",
    "print(response)"
   ]
  },
  {
   "cell_type": "code",
   "execution_count": 3,
   "metadata": {},
   "outputs": [],
   "source": [
    "data = response.json()\n",
    "PR = 'https://api.darksky.net/forecast//18.15,-66.30?units=us'"
   ]
  },
  {
   "cell_type": "code",
   "execution_count": 4,
   "metadata": {},
   "outputs": [
    {
     "data": {
      "text/plain": [
       "{'time': 1529467200,\n",
       " 'summary': 'Rain starting in the afternoon, continuing until evening.',\n",
       " 'icon': 'rain',\n",
       " 'sunriseTime': 1529488296,\n",
       " 'sunsetTime': 1529535881,\n",
       " 'moonPhase': 0.26,\n",
       " 'precipIntensity': 0.0257,\n",
       " 'precipIntensityMax': 0.0891,\n",
       " 'precipIntensityMaxTime': 1529517600,\n",
       " 'precipProbability': 0.85,\n",
       " 'precipType': 'rain',\n",
       " 'temperatureHigh': 78.38,\n",
       " 'temperatureHighTime': 1529510400,\n",
       " 'temperatureLow': 69.07,\n",
       " 'temperatureLowTime': 1529557200,\n",
       " 'apparentTemperatureHigh': 79.75,\n",
       " 'apparentTemperatureHighTime': 1529510400,\n",
       " 'apparentTemperatureLow': 70.38,\n",
       " 'apparentTemperatureLowTime': 1529557200,\n",
       " 'dewPoint': 71.14,\n",
       " 'humidity': 0.92,\n",
       " 'pressure': 1016.83,\n",
       " 'windSpeed': 6.09,\n",
       " 'windGust': 14.32,\n",
       " 'windGustTime': 1529470800,\n",
       " 'windBearing': 140,\n",
       " 'cloudCover': 0.85,\n",
       " 'uvIndex': 9,\n",
       " 'uvIndexTime': 1529510400,\n",
       " 'visibility': 10,\n",
       " 'ozone': 273.03,\n",
       " 'temperatureMin': 69.63,\n",
       " 'temperatureMinTime': 1529550000,\n",
       " 'temperatureMax': 78.38,\n",
       " 'temperatureMaxTime': 1529510400,\n",
       " 'apparentTemperatureMin': 71,\n",
       " 'apparentTemperatureMinTime': 1529550000,\n",
       " 'apparentTemperatureMax': 79.75,\n",
       " 'apparentTemperatureMaxTime': 1529510400}"
      ]
     },
     "execution_count": 4,
     "metadata": {},
     "output_type": "execute_result"
    }
   ],
   "source": [
    "data['currently']\n",
    "PR_dailyforecast = data['daily']['data'][0]\n",
    "PR_dailyforecast"
   ]
  },
  {
   "cell_type": "code",
   "execution_count": 32,
   "metadata": {},
   "outputs": [
    {
     "name": "stdout",
     "output_type": "stream",
     "text": [
      "At present is 77.79 degrees in the island and it is Humid and Mostly Cloudy. The forecast for todays temperature is 78.38 with a maximun of 78.38 degrees and a minimun of 69.07 degress.\n",
      "It is going to rain.\n"
     ]
    }
   ],
   "source": [
    "temperature = PR_dailyforecast['temperatureHigh']\n",
    "if PR_dailyforecast['temperatureHigh'] > 75:\n",
    "    temperature == 'It is warm outside'\n",
    "elif PR_dailyforecast['temperatureHigh'] > 90:\n",
    "    temperature == 'It is melting hot. Ponce everywhere'\n",
    "else:\n",
    "    temperature = 'You can survive this day without drinking 10 water bottles'\n",
    "\n",
    "print('At present is', data['currently']['temperature'], 'degrees in the island and it is', data['currently']['summary']+'. The forecast for todays temperature is', temperature, 'with a maximun of', PR_dailyforecast['temperatureHigh'], 'degrees and a minimun of', PR_dailyforecast['temperatureLow'],'degress.')\n",
    "\n",
    "if PR_dailyforecast['precipProbability'] > 0.6:\n",
    "    print('It is going to rain.')"
   ]
  },
  {
   "cell_type": "code",
   "execution_count": 33,
   "metadata": {},
   "outputs": [
    {
     "data": {
      "text/plain": [
       "<Response [200]>"
      ]
     },
     "execution_count": 33,
     "metadata": {},
     "output_type": "execute_result"
    }
   ],
   "source": [
    "requests.post(\n",
    "        \"https://api.mailgun.net/v3//messages\",\n",
    "        auth=(\"api\", \"\"),\n",
    "        data={\"from\": \"Mailgun Sandbox <>\",\n",
    "              \"to\": \"Coral Negron <cnn2113@columbia.edu>\",\n",
    "              \"subject\": \"8AM Weather forecast for today\",\n",
    "              \"text\":('At present is', data['currently']['temperature'], 'degrees in the island and it is', data['currently']['summary']+'. The forecast for todays temperature is', temperature, 'with a maximun of', PR_dailyforecast['temperatureHigh'], 'degrees and a minimun of', PR_dailyforecast['temperatureLow'],'degress.The precipitation probability is', data['currently']['precipProbability'],'.')})"
   ]
  },
  {
   "cell_type": "code",
   "execution_count": 34,
   "metadata": {},
   "outputs": [
    {
     "name": "stdout",
     "output_type": "stream",
     "text": [
      "At present is 77.79 degrees in the island and it is Humid and Mostly Cloudy. The forecast for todays temperature is 78.38 with a maximun of 78.38 degrees and a minimun of 69.07 degress. The precipitation probability is 0 .\n"
     ]
    },
    {
     "data": {
      "text/plain": [
       "'{\\n  \"message\": \"Need at least one of \\'text\\' or \\'html\\' parameters specified\"\\n}'"
      ]
     },
     "execution_count": 34,
     "metadata": {},
     "output_type": "execute_result"
    }
   ],
   "source": [
    "response= requests.post(\n",
    "        \"https://api.mailgun.net/v3//messages\",\n",
    "        auth=(\"api\", \"\"),\n",
    "        data={\"from\": \"Mailgun Sandbox <>\",\n",
    "              \"to\": \"Coral Negron <cnn2113@columbia.edu>\",\n",
    "              \"subject\": \"8AM Weather forecast for today\",\n",
    "              \"text\": print('At present is', data['currently']['temperature'], 'degrees in the island and it is', data['currently']['summary']+'. The forecast for todays temperature is', temperature, 'with a maximun of', PR_dailyforecast['temperatureHigh'], 'degrees and a minimun of', PR_dailyforecast['temperatureLow'],'degress. The precipitation probability is', data['currently']['precipProbability'],'.')})\n",
    "\n",
    "response.text"
   ]
  },
  {
   "cell_type": "code",
   "execution_count": null,
   "metadata": {},
   "outputs": [],
   "source": []
  }
 ],
 "metadata": {
  "kernelspec": {
   "display_name": "Python 3",
   "language": "python",
   "name": "python3"
  },
  "language_info": {
   "codemirror_mode": {
    "name": "ipython",
    "version": 3
   },
   "file_extension": ".py",
   "mimetype": "text/x-python",
   "name": "python",
   "nbconvert_exporter": "python",
   "pygments_lexer": "ipython3",
   "version": "3.6.5"
  }
 },
 "nbformat": 4,
 "nbformat_minor": 2
}
