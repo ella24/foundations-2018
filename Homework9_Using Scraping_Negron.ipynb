{
 "cells": [
  {
   "cell_type": "code",
   "execution_count": 27,
   "metadata": {},
   "outputs": [],
   "source": [
    "from selenium import webdriver\n",
    "from selenium.webdriver.common.keys import Keys\n",
    "from selenium.webdriver.support.ui import Select\n",
    "from selenium.webdriver.support.ui import WebDriverWait"
   ]
  },
  {
   "cell_type": "code",
   "execution_count": 31,
   "metadata": {},
   "outputs": [],
   "source": [
    "driver = webdriver.Chrome()\n",
    "driver.get('http://www.periodicolaperla.com/')"
   ]
  },
  {
   "cell_type": "code",
   "execution_count": 32,
   "metadata": {},
   "outputs": [],
   "source": [
    "options = webdriver.ChromeOptions()\n",
    "options.add_argument('headless')\n",
    "options.add_argument('window-size=120x60')"
   ]
  },
  {
   "cell_type": "code",
   "execution_count": 34,
   "metadata": {},
   "outputs": [],
   "source": [
    "search_button = driver.find_element_by_xpath('//*[@id=\"menu-item-40977\"]/a')\n",
    "search_button.click()"
   ]
  },
  {
   "cell_type": "code",
   "execution_count": 108,
   "metadata": {},
   "outputs": [
    {
     "name": "stdout",
     "output_type": "stream",
     "text": [
      "Buscan combatir el crimen en Ponce\n",
      "CyberNews \n",
      "http://www.periodicolaperla.com/buscan-combatir-el-crimen-en-ponce/\n",
      "CyberNews • miércoles 20 de junio del 2018\n",
      "Artista belga reclama $1 millón por la eliminación de su mural\n",
      "Jason Rodríguez Grafal \n",
      "http://www.periodicolaperla.com/artista-belga-reclama-1-millon-por-la-eliminacion-de-su-mural/\n",
      "Jason Rodríguez Grafal • miércoles 20 de junio del 2018\n",
      "Joven se abre paso en el mundo del maquillaje\n",
      "La Redacción Digital \n",
      "http://www.periodicolaperla.com/joven-se-abre-paso-en-el-mundo-del-maquillaje/\n",
      "La Redacción Digital • lunes 18 de junio del 2018\n",
      "Comisionada residente lleva subsecretaria de Vivienda federal a Ponce\n",
      "http://www.periodicolaperla.com/comisionada-residente-lleva-subsecretaria-de-vivienda-federal-a-ponce/\n",
      "jueves 14 de junio del 2018\n",
      "Ciclistas de Puerto Rico convocan Bici Marcha 2018 en Ponce\n",
      "http://www.periodicolaperla.com/ciclistas-de-puerto-rico-convocan-bici-marcha-2018-en-ponce/\n",
      "miércoles 13 de junio del 2018\n",
      "Pocos ahorros y más contrataciones en el nuevo presupuesto de Ponce\n",
      "http://www.periodicolaperla.com/ahorros-mas-contrataciones-nuevo-presupuesto-ponce/\n",
      "miércoles 13 de junio del 2018\n",
      "Siguen los retrasos: Para largo la espera por el Anillo de Circunvalación en Ponce\n",
      "http://www.periodicolaperla.com/siguen-los-retrasos-largo-la-espera-anillo-circunvalacion-ponce/\n",
      "miércoles 13 de junio del 2018\n",
      "Otorgan $40 mil en becas a estudiantes de Peñuelas y Guayanilla\n",
      "http://www.periodicolaperla.com/otorgan-40-mil-en-becas-a-estudiantes-de-penuelas-y-guayanilla/\n",
      "lunes 11 de junio del 2018\n",
      "Emotivo y exitoso cierre de la Caminata Da Vida en Ponce\n",
      "http://www.periodicolaperla.com/emotivo-y-exitoso-cierre-de-la-caminata-da-vida-en-ponce/\n",
      "viernes 8 de junio del 2018\n",
      "Catorce pueblos del sur en condiciones de sequía\n",
      "http://www.periodicolaperla.com/catorce-pueblos-del-sur-condiciones-sequia/\n",
      "viernes 8 de junio del 2018\n",
      "Hombre se priva de la vida en estacionamiento de hospital\n",
      "http://www.periodicolaperla.com/hombre-se-priva-de-la-vida-en-estacionamiento-de-hospital/\n",
      "Inyectan nueva vida a la Plaza Juan Ponce de León\n",
      "http://www.periodicolaperla.com/inyectan-nueva-vida-a-la-plaza-juan-ponce-de-leon/\n",
      "Artista belga reclama $1 millón por la eliminación de su mural\n",
      "http://www.periodicolaperla.com/artista-belga-reclama-1-millon-por-la-eliminacion-de-su-mural/\n",
      "Llegan a Juana Díaz para reclutar talentos en béisbol\n",
      "http://www.periodicolaperla.com/llegan-a-juana-diaz-para-reclutar-talentos-en-beisbol/\n",
      "Robo y agresión en área de Wal-Mart en Ponce\n",
      "http://www.periodicolaperla.com/robo-y-agresion-en-area-de-wal-mart-en-ponce/\n",
      "sábado 16 de junio del 2018\n",
      "Agresión grave a agentes y detonaciones en Ponce\n",
      "http://www.periodicolaperla.com/agresion-grave-a-agentes-y-detonaciones-en-ponce/\n",
      "viernes 15 de junio del 2018\n",
      "Hallan anciano sin vida en centro comercial en Ponce\n",
      "http://www.periodicolaperla.com/hallan-anciano-sin-vida-en-centro-comercial-en-ponce/\n",
      "viernes 15 de junio del 2018\n",
      "Arrestan individuo que poseía 3 órdenes de arresto en Ponce\n",
      "http://www.periodicolaperla.com/arrestan-individuo-que-poseia-3-ordenes-de-arresto-en-ponce/\n",
      "martes 19 de junio del 2018\n",
      "Instituto Tecnológico de Puerto Rico: Al alcance de tus metas académicas\n",
      "http://www.periodicolaperla.com/instituto-tecnologico-de-puerto-rico-al-alcance-de-tus-metas-academicas/\n",
      "miércoles 20 de junio del 2018\n"
     ]
    }
   ],
   "source": [
    "sur_stories = [story for story in driver.find_elements_by_class_name('article-header')]\n",
    "for story in sur_stories:\n",
    "    #print(sur_stories.index(story))\\\n",
    "    if story.find_element_by_tag_name('h3').text != \"\":\n",
    "        print(story.find_element_by_tag_name('h3').text)\n",
    "        try:\n",
    "            if story.find_element_by_class_name('author').text:\n",
    "                print(story.find_element_by_class_name('author').text.split('•')[0])\n",
    "        except:\n",
    "            pass\n",
    "        try:\n",
    "            if story.find_element_by_tag_name('a').get_attribute('href'):\n",
    "                print(story.find_element_by_tag_name('a').get_attribute('href'))\n",
    "        except:\n",
    "            pass\n",
    "        try:\n",
    "            if story.find_element_by_class_name('date').text:\n",
    "                print(story.find_element_by_class_name('date').text)\n",
    "        except:\n",
    "            pass\n",
    "        "
   ]
  },
  {
   "cell_type": "code",
   "execution_count": 155,
   "metadata": {},
   "outputs": [
    {
     "data": {
      "text/plain": [
       "[{'headline': 'Buscan combatir el crimen en Ponce',\n",
       "  'url': 'http://www.periodicolaperla.com/buscan-combatir-el-crimen-en-ponce/',\n",
       "  'author': 'Jason Rodríguez Grafal '},\n",
       " {'headline': 'Artista belga reclama $1 millón por la eliminación de su mural',\n",
       "  'url': 'http://www.periodicolaperla.com/artista-belga-reclama-1-millon-por-la-eliminacion-de-su-mural/',\n",
       "  'author': 'La Redacción Digital '},\n",
       " {'headline': 'Joven se abre paso en el mundo del maquillaje',\n",
       "  'url': 'http://www.periodicolaperla.com/joven-se-abre-paso-en-el-mundo-del-maquillaje/',\n",
       "  'author': ''},\n",
       " {'headline': 'Comisionada residente lleva subsecretaria de Vivienda federal a Ponce',\n",
       "  'url': 'http://www.periodicolaperla.com/comisionada-residente-lleva-subsecretaria-de-vivienda-federal-a-ponce/',\n",
       "  'author': ''},\n",
       " {'headline': 'Ciclistas de Puerto Rico convocan Bici Marcha 2018 en Ponce',\n",
       "  'url': 'http://www.periodicolaperla.com/ciclistas-de-puerto-rico-convocan-bici-marcha-2018-en-ponce/',\n",
       "  'author': ''},\n",
       " {'headline': 'Pocos ahorros y más contrataciones en el nuevo presupuesto de Ponce',\n",
       "  'url': 'http://www.periodicolaperla.com/ahorros-mas-contrataciones-nuevo-presupuesto-ponce/',\n",
       "  'author': ''},\n",
       " {'headline': 'Siguen los retrasos: Para largo la espera por el Anillo de Circunvalación en Ponce',\n",
       "  'url': 'http://www.periodicolaperla.com/siguen-los-retrasos-largo-la-espera-anillo-circunvalacion-ponce/',\n",
       "  'author': ''},\n",
       " {'headline': 'Otorgan $40 mil en becas a estudiantes de Peñuelas y Guayanilla',\n",
       "  'url': 'http://www.periodicolaperla.com/otorgan-40-mil-en-becas-a-estudiantes-de-penuelas-y-guayanilla/',\n",
       "  'author': ''},\n",
       " {'headline': 'Emotivo y exitoso cierre de la Caminata Da Vida en Ponce',\n",
       "  'url': 'http://www.periodicolaperla.com/emotivo-y-exitoso-cierre-de-la-caminata-da-vida-en-ponce/',\n",
       "  'author': ''},\n",
       " {'headline': 'Catorce pueblos del sur en condiciones de sequía',\n",
       "  'url': 'http://www.periodicolaperla.com/catorce-pueblos-del-sur-condiciones-sequia/',\n",
       "  'author': ''},\n",
       " {'headline': 'Hombre se priva de la vida en estacionamiento de hospital',\n",
       "  'url': 'http://www.periodicolaperla.com/hombre-se-priva-de-la-vida-en-estacionamiento-de-hospital/',\n",
       "  'author': ''},\n",
       " {'headline': 'Inyectan nueva vida a la Plaza Juan Ponce de León',\n",
       "  'url': 'http://www.periodicolaperla.com/inyectan-nueva-vida-a-la-plaza-juan-ponce-de-leon/',\n",
       "  'author': ''},\n",
       " {'headline': 'Artista belga reclama $1 millón por la eliminación de su mural',\n",
       "  'url': 'http://www.periodicolaperla.com/artista-belga-reclama-1-millon-por-la-eliminacion-de-su-mural/',\n",
       "  'author': ''},\n",
       " {'headline': 'Llegan a Juana Díaz para reclutar talentos en béisbol',\n",
       "  'url': 'http://www.periodicolaperla.com/llegan-a-juana-diaz-para-reclutar-talentos-en-beisbol/'},\n",
       " {'headline': 'Robo y agresión en área de Wal-Mart en Ponce',\n",
       "  'url': 'http://www.periodicolaperla.com/robo-y-agresion-en-area-de-wal-mart-en-ponce/'},\n",
       " {'headline': 'Agresión grave a agentes y detonaciones en Ponce',\n",
       "  'url': 'http://www.periodicolaperla.com/agresion-grave-a-agentes-y-detonaciones-en-ponce/'},\n",
       " {'headline': 'Hallan anciano sin vida en centro comercial en Ponce',\n",
       "  'url': 'http://www.periodicolaperla.com/hallan-anciano-sin-vida-en-centro-comercial-en-ponce/'},\n",
       " {'headline': 'Arrestan individuo que poseía 3 órdenes de arresto en Ponce',\n",
       "  'url': 'http://www.periodicolaperla.com/arrestan-individuo-que-poseia-3-ordenes-de-arresto-en-ponce/',\n",
       "  'author': ''},\n",
       " {'headline': 'Instituto Tecnológico de Puerto Rico: Al alcance de tus metas académicas',\n",
       "  'url': 'http://www.periodicolaperla.com/instituto-tecnologico-de-puerto-rico-al-alcance-de-tus-metas-academicas/'}]"
      ]
     },
     "execution_count": 155,
     "metadata": {},
     "output_type": "execute_result"
    }
   ],
   "source": [
    "list_of_stories=[]\n",
    "\n",
    "for story in sur_stories:\n",
    "    if story.find_element_by_tag_name('h3').text != \"\":\n",
    "        try:\n",
    "            story_dict['author']= story.find_element_by_class_name('author').text.split('•')[0]\n",
    "        except:\n",
    "            pass\n",
    "        story_dict={}\n",
    "        story_dict['headline']= story.find_element_by_tag_name('h3').text\n",
    "        story_dict['url']= story.find_element_by_tag_name('a').get_attribute('href')\n",
    "        list_of_stories.append(story_dict)\n",
    "\n",
    "list_of_stories"
   ]
  },
  {
   "cell_type": "code",
   "execution_count": 156,
   "metadata": {},
   "outputs": [],
   "source": [
    "import datetime\n",
    "right_now = datetime.datetime.now()\n",
    "date_string = right_now.strftime(\"%Y-%M\")"
   ]
  },
  {
   "cell_type": "code",
   "execution_count": 157,
   "metadata": {},
   "outputs": [
    {
     "data": {
      "text/plain": [
       "'2018-06-20_19_43_21'"
      ]
     },
     "execution_count": 157,
     "metadata": {},
     "output_type": "execute_result"
    }
   ],
   "source": [
    "right_now.strftime('%Y-%m-%d_%H_%M_%S')"
   ]
  },
  {
   "cell_type": "code",
   "execution_count": 159,
   "metadata": {},
   "outputs": [],
   "source": [
    "import pandas as pd"
   ]
  },
  {
   "cell_type": "code",
   "execution_count": 161,
   "metadata": {},
   "outputs": [
    {
     "data": {
      "text/html": [
       "<div>\n",
       "<style scoped>\n",
       "    .dataframe tbody tr th:only-of-type {\n",
       "        vertical-align: middle;\n",
       "    }\n",
       "\n",
       "    .dataframe tbody tr th {\n",
       "        vertical-align: top;\n",
       "    }\n",
       "\n",
       "    .dataframe thead th {\n",
       "        text-align: right;\n",
       "    }\n",
       "</style>\n",
       "<table border=\"1\" class=\"dataframe\">\n",
       "  <thead>\n",
       "    <tr style=\"text-align: right;\">\n",
       "      <th></th>\n",
       "      <th>author</th>\n",
       "      <th>headline</th>\n",
       "      <th>url</th>\n",
       "    </tr>\n",
       "  </thead>\n",
       "  <tbody>\n",
       "    <tr>\n",
       "      <th>0</th>\n",
       "      <td>Jason Rodríguez Grafal</td>\n",
       "      <td>Buscan combatir el crimen en Ponce</td>\n",
       "      <td>http://www.periodicolaperla.com/buscan-combati...</td>\n",
       "    </tr>\n",
       "    <tr>\n",
       "      <th>1</th>\n",
       "      <td>La Redacción Digital</td>\n",
       "      <td>Artista belga reclama $1 millón por la elimina...</td>\n",
       "      <td>http://www.periodicolaperla.com/artista-belga-...</td>\n",
       "    </tr>\n",
       "    <tr>\n",
       "      <th>2</th>\n",
       "      <td></td>\n",
       "      <td>Joven se abre paso en el mundo del maquillaje</td>\n",
       "      <td>http://www.periodicolaperla.com/joven-se-abre-...</td>\n",
       "    </tr>\n",
       "    <tr>\n",
       "      <th>3</th>\n",
       "      <td></td>\n",
       "      <td>Comisionada residente lleva subsecretaria de V...</td>\n",
       "      <td>http://www.periodicolaperla.com/comisionada-re...</td>\n",
       "    </tr>\n",
       "    <tr>\n",
       "      <th>4</th>\n",
       "      <td></td>\n",
       "      <td>Ciclistas de Puerto Rico convocan Bici Marcha ...</td>\n",
       "      <td>http://www.periodicolaperla.com/ciclistas-de-p...</td>\n",
       "    </tr>\n",
       "    <tr>\n",
       "      <th>5</th>\n",
       "      <td></td>\n",
       "      <td>Pocos ahorros y más contrataciones en el nuevo...</td>\n",
       "      <td>http://www.periodicolaperla.com/ahorros-mas-co...</td>\n",
       "    </tr>\n",
       "    <tr>\n",
       "      <th>6</th>\n",
       "      <td></td>\n",
       "      <td>Siguen los retrasos: Para largo la espera por ...</td>\n",
       "      <td>http://www.periodicolaperla.com/siguen-los-ret...</td>\n",
       "    </tr>\n",
       "    <tr>\n",
       "      <th>7</th>\n",
       "      <td></td>\n",
       "      <td>Otorgan $40 mil en becas a estudiantes de Peñu...</td>\n",
       "      <td>http://www.periodicolaperla.com/otorgan-40-mil...</td>\n",
       "    </tr>\n",
       "    <tr>\n",
       "      <th>8</th>\n",
       "      <td></td>\n",
       "      <td>Emotivo y exitoso cierre de la Caminata Da Vid...</td>\n",
       "      <td>http://www.periodicolaperla.com/emotivo-y-exit...</td>\n",
       "    </tr>\n",
       "    <tr>\n",
       "      <th>9</th>\n",
       "      <td></td>\n",
       "      <td>Catorce pueblos del sur en condiciones de sequía</td>\n",
       "      <td>http://www.periodicolaperla.com/catorce-pueblo...</td>\n",
       "    </tr>\n",
       "    <tr>\n",
       "      <th>10</th>\n",
       "      <td></td>\n",
       "      <td>Hombre se priva de la vida en estacionamiento ...</td>\n",
       "      <td>http://www.periodicolaperla.com/hombre-se-priv...</td>\n",
       "    </tr>\n",
       "    <tr>\n",
       "      <th>11</th>\n",
       "      <td></td>\n",
       "      <td>Inyectan nueva vida a la Plaza Juan Ponce de León</td>\n",
       "      <td>http://www.periodicolaperla.com/inyectan-nueva...</td>\n",
       "    </tr>\n",
       "    <tr>\n",
       "      <th>12</th>\n",
       "      <td></td>\n",
       "      <td>Artista belga reclama $1 millón por la elimina...</td>\n",
       "      <td>http://www.periodicolaperla.com/artista-belga-...</td>\n",
       "    </tr>\n",
       "    <tr>\n",
       "      <th>13</th>\n",
       "      <td>NaN</td>\n",
       "      <td>Llegan a Juana Díaz para reclutar talentos en ...</td>\n",
       "      <td>http://www.periodicolaperla.com/llegan-a-juana...</td>\n",
       "    </tr>\n",
       "    <tr>\n",
       "      <th>14</th>\n",
       "      <td>NaN</td>\n",
       "      <td>Robo y agresión en área de Wal-Mart en Ponce</td>\n",
       "      <td>http://www.periodicolaperla.com/robo-y-agresio...</td>\n",
       "    </tr>\n",
       "    <tr>\n",
       "      <th>15</th>\n",
       "      <td>NaN</td>\n",
       "      <td>Agresión grave a agentes y detonaciones en Ponce</td>\n",
       "      <td>http://www.periodicolaperla.com/agresion-grave...</td>\n",
       "    </tr>\n",
       "    <tr>\n",
       "      <th>16</th>\n",
       "      <td>NaN</td>\n",
       "      <td>Hallan anciano sin vida en centro comercial en...</td>\n",
       "      <td>http://www.periodicolaperla.com/hallan-anciano...</td>\n",
       "    </tr>\n",
       "    <tr>\n",
       "      <th>17</th>\n",
       "      <td></td>\n",
       "      <td>Arrestan individuo que poseía 3 órdenes de arr...</td>\n",
       "      <td>http://www.periodicolaperla.com/arrestan-indiv...</td>\n",
       "    </tr>\n",
       "    <tr>\n",
       "      <th>18</th>\n",
       "      <td>NaN</td>\n",
       "      <td>Instituto Tecnológico de Puerto Rico: Al alcan...</td>\n",
       "      <td>http://www.periodicolaperla.com/instituto-tecn...</td>\n",
       "    </tr>\n",
       "  </tbody>\n",
       "</table>\n",
       "</div>"
      ],
      "text/plain": [
       "                     author  \\\n",
       "0   Jason Rodríguez Grafal    \n",
       "1     La Redacción Digital    \n",
       "2                             \n",
       "3                             \n",
       "4                             \n",
       "5                             \n",
       "6                             \n",
       "7                             \n",
       "8                             \n",
       "9                             \n",
       "10                            \n",
       "11                            \n",
       "12                            \n",
       "13                      NaN   \n",
       "14                      NaN   \n",
       "15                      NaN   \n",
       "16                      NaN   \n",
       "17                            \n",
       "18                      NaN   \n",
       "\n",
       "                                             headline  \\\n",
       "0                  Buscan combatir el crimen en Ponce   \n",
       "1   Artista belga reclama $1 millón por la elimina...   \n",
       "2       Joven se abre paso en el mundo del maquillaje   \n",
       "3   Comisionada residente lleva subsecretaria de V...   \n",
       "4   Ciclistas de Puerto Rico convocan Bici Marcha ...   \n",
       "5   Pocos ahorros y más contrataciones en el nuevo...   \n",
       "6   Siguen los retrasos: Para largo la espera por ...   \n",
       "7   Otorgan $40 mil en becas a estudiantes de Peñu...   \n",
       "8   Emotivo y exitoso cierre de la Caminata Da Vid...   \n",
       "9    Catorce pueblos del sur en condiciones de sequía   \n",
       "10  Hombre se priva de la vida en estacionamiento ...   \n",
       "11  Inyectan nueva vida a la Plaza Juan Ponce de León   \n",
       "12  Artista belga reclama $1 millón por la elimina...   \n",
       "13  Llegan a Juana Díaz para reclutar talentos en ...   \n",
       "14       Robo y agresión en área de Wal-Mart en Ponce   \n",
       "15   Agresión grave a agentes y detonaciones en Ponce   \n",
       "16  Hallan anciano sin vida en centro comercial en...   \n",
       "17  Arrestan individuo que poseía 3 órdenes de arr...   \n",
       "18  Instituto Tecnológico de Puerto Rico: Al alcan...   \n",
       "\n",
       "                                                  url  \n",
       "0   http://www.periodicolaperla.com/buscan-combati...  \n",
       "1   http://www.periodicolaperla.com/artista-belga-...  \n",
       "2   http://www.periodicolaperla.com/joven-se-abre-...  \n",
       "3   http://www.periodicolaperla.com/comisionada-re...  \n",
       "4   http://www.periodicolaperla.com/ciclistas-de-p...  \n",
       "5   http://www.periodicolaperla.com/ahorros-mas-co...  \n",
       "6   http://www.periodicolaperla.com/siguen-los-ret...  \n",
       "7   http://www.periodicolaperla.com/otorgan-40-mil...  \n",
       "8   http://www.periodicolaperla.com/emotivo-y-exit...  \n",
       "9   http://www.periodicolaperla.com/catorce-pueblo...  \n",
       "10  http://www.periodicolaperla.com/hombre-se-priv...  \n",
       "11  http://www.periodicolaperla.com/inyectan-nueva...  \n",
       "12  http://www.periodicolaperla.com/artista-belga-...  \n",
       "13  http://www.periodicolaperla.com/llegan-a-juana...  \n",
       "14  http://www.periodicolaperla.com/robo-y-agresio...  \n",
       "15  http://www.periodicolaperla.com/agresion-grave...  \n",
       "16  http://www.periodicolaperla.com/hallan-anciano...  \n",
       "17  http://www.periodicolaperla.com/arrestan-indiv...  \n",
       "18  http://www.periodicolaperla.com/instituto-tecn...  "
      ]
     },
     "execution_count": 161,
     "metadata": {},
     "output_type": "execute_result"
    }
   ],
   "source": [
    "df=pd.DataFrame(list_of_stories)\n",
    "df"
   ]
  },
  {
   "cell_type": "code",
   "execution_count": 163,
   "metadata": {},
   "outputs": [
    {
     "data": {
      "text/plain": [
       "'list_of_stories2018-06-20_19_43_21.csv'"
      ]
     },
     "execution_count": 163,
     "metadata": {},
     "output_type": "execute_result"
    }
   ],
   "source": [
    "filename = 'list_of_stories' + right_now.strftime(\"%Y-%m-%d_%H_%M_%S\") + '.csv'\n",
    "df.to_csv(filename, index=False)\n",
    "filename"
   ]
  },
  {
   "cell_type": "code",
   "execution_count": 169,
   "metadata": {},
   "outputs": [],
   "source": [
    "from pyvirtualdisplay import Display\n",
    "import requests"
   ]
  },
  {
   "cell_type": "code",
   "execution_count": 176,
   "metadata": {},
   "outputs": [
    {
     "data": {
      "text/plain": [
       "<Response [200]>"
      ]
     },
     "execution_count": 176,
     "metadata": {},
     "output_type": "execute_result"
    }
   ],
   "source": [
    "requests.post(\n",
    "        \"https://api.mailgun.net/v3//messages\",\n",
    "        auth=(\"api\", \"\"),\n",
    "        data={\"from\": \"Mailgun Sandbox <>\",\n",
    "              \"to\": \"Coral Negron <cnn2113@columbia.edu>\",\n",
    "              \"subject\": \"Here is your 6PM briefing\",\n",
    "              \"text\": open('list_of_stories' + right_now.strftime(\"%Y-%m-%d_%H_%M_%S\") + '.csv')})"
   ]
  },
  {
   "cell_type": "code",
   "execution_count": 177,
   "metadata": {},
   "outputs": [
    {
     "data": {
      "text/plain": [
       "'{\\n  \"id\": \"<20180621001838.1.348C4C97A456E856@sandboxe9fd3ebe04f24e2e9f2ab3e00e0c7cc2.mailgun.org>\",\\n  \"message\": \"Queued. Thank you.\"\\n}'"
      ]
     },
     "execution_count": 177,
     "metadata": {},
     "output_type": "execute_result"
    }
   ],
   "source": [
    "response= requests.post(\n",
    "        \"https://api.mailgun.net/v3//messages\",\n",
    "        auth=(\"api\", \"\"),\n",
    "        data={\"from\": \"Mailgun Sandbox <>\",\n",
    "              \"to\": \"Coral Negron <cnn2113@columbia.edu>\",\n",
    "              \"subject\": \"Here is your 6PM briefing\",\n",
    "              \"text\": open('list_of_stories' + right_now.strftime(\"%Y-%m-%d_%H_%M_%S\") + '.csv')}) \n",
    "response.text"
   ]
  }
 ],
 "metadata": {
  "kernelspec": {
   "display_name": "Python 3",
   "language": "python",
   "name": "python3"
  },
  "language_info": {
   "codemirror_mode": {
    "name": "ipython",
    "version": 3
   },
   "file_extension": ".py",
   "mimetype": "text/x-python",
   "name": "python",
   "nbconvert_exporter": "python",
   "pygments_lexer": "ipython3",
   "version": "3.6.5"
  }
 },
 "nbformat": 4,
 "nbformat_minor": 2
}
